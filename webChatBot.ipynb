{
 "cells": [
  {
   "cell_type": "code",
   "execution_count": 1,
   "metadata": {},
   "outputs": [
    {
     "name": "stderr",
     "output_type": "stream",
     "text": [
      "c:\\Python312\\Lib\\site-packages\\tqdm\\auto.py:21: TqdmWarning: IProgress not found. Please update jupyter and ipywidgets. See https://ipywidgets.readthedocs.io/en/stable/user_install.html\n",
      "  from .autonotebook import tqdm as notebook_tqdm\n"
     ]
    }
   ],
   "source": [
    "from dotenv import load_dotenv\n",
    "from openai import OpenAI\n",
    "from pypdf import PdfReader\n",
    "import gradio as gr"
   ]
  },
  {
   "cell_type": "code",
   "execution_count": 2,
   "metadata": {},
   "outputs": [],
   "source": [
    "load_dotenv(override=True)\n",
    "openai = OpenAI()"
   ]
  },
  {
   "cell_type": "code",
   "execution_count": 3,
   "metadata": {},
   "outputs": [],
   "source": [
    "reader = PdfReader(\"resources/linkedin.pdf\")\n",
    "linkedin = \"\"\n",
    "for page in reader.pages:\n",
    "    text = page.extract_text()\n",
    "    if text:\n",
    "        linkedin += text"
   ]
  },
  {
   "cell_type": "code",
   "execution_count": 4,
   "metadata": {},
   "outputs": [
    {
     "name": "stdout",
     "output_type": "stream",
     "text": [
      "   \n",
      "Contact\n",
      "sadeeparanasinghe2000@gmail\n",
      ".com\n",
      "www.linkedin.com/in/sadeepa-\n",
      "ranasinghe-11b030194 (LinkedIn)\n",
      "Top Skills\n",
      "Programming\n",
      "Computer Science\n",
      "HTML5\n",
      "Sadeepa Ranasinghe\n",
      "Computer Engineering Undergraduate - Faculty Of Engineering USJ\n",
      "Gampaha District, Western Province, Sri Lanka\n",
      "Summary\n",
      "Computer engineering undergraduate with a passion for data\n",
      "science, machine learning, AI, web development, and software\n",
      "engineering. I thrive in collaborative environments and cherish the\n",
      "opportunity to work with like-minded individuals who share the same\n",
      "eagerness for technology and learning.\n",
      "Experience\n",
      "LSEG (London Stock Exchange Group)\n",
      "Software Engineer Intern\n",
      "July 2024 - February 2025 (8 months)\n",
      "Sri Lanka\n",
      "Education\n",
      "University of Sri Jayewardenepura\n",
      "Bachelor of Engineering - BE, Computer Engineering · (March 2021 - June\n",
      "2024)\n",
      "Wisdom Business Academy\n",
      "CIMA, Business/Commerce, General · (January 2020 - January 2021)\n",
      "Aquinas College of Higher Studies\n",
      " · (January 2016 - August 2020)\n",
      "Bandaranayake College Gampaha Srilanka\n",
      "Mathematics · (March 2010 - January 2018)\n",
      "  Page 1 of 1\n"
     ]
    }
   ],
   "source": [
    "print(linkedin)"
   ]
  },
  {
   "cell_type": "code",
   "execution_count": 6,
   "metadata": {},
   "outputs": [],
   "source": [
    "with open(\"resources/summary.txt\", \"r\", encoding=\"utf-8\") as f:\n",
    "    summary = f.read()"
   ]
  },
  {
   "cell_type": "code",
   "execution_count": 7,
   "metadata": {},
   "outputs": [],
   "source": [
    "name = \"Sadeepa Ranasinghe\""
   ]
  },
  {
   "cell_type": "code",
   "execution_count": 8,
   "metadata": {},
   "outputs": [],
   "source": [
    "system_prompt = f\"You are acting as {name}. You are answering questions on {name}'s website, \\\n",
    "particularly questions related to {name}'s career, background, skills and experience. \\\n",
    "Your responsibility is to represent {name} for interactions on the website as faithfully as possible. \\\n",
    "You are given a summary of {name}'s background and LinkedIn profile which you can use to answer questions. \\\n",
    "Be professional and engaging, as if talking to a potential client or future employer who came across the website. \\\n",
    "If you don't know the answer, say so.\"\n",
    "\n",
    "system_prompt += f\"\\n\\n## Summary:\\n{summary}\\n\\n## LinkedIn Profile:\\n{linkedin}\\n\\n\"\n",
    "system_prompt += f\"With this context, please chat with the user, always staying in character as {name}.\"\n"
   ]
  },
  {
   "cell_type": "code",
   "execution_count": 9,
   "metadata": {},
   "outputs": [
    {
     "data": {
      "text/plain": [
       "\"You are acting as Sadeepa Ranasinghe. You are answering questions on Sadeepa Ranasinghe's website, particularly questions related to Sadeepa Ranasinghe's career, background, skills and experience. Your responsibility is to represent Sadeepa Ranasinghe for interactions on the website as faithfully as possible. You are given a summary of Sadeepa Ranasinghe's background and LinkedIn profile which you can use to answer questions. Be professional and engaging, as if talking to a potential client or future employer who came across the website. If you don't know the answer, say so.\\n\\n## Summary:\\nMy name is Sadeepa Ranasinghe. I'm an Machine learning engineer and an Artificial Intelligence Engineer. I'm originally from Sri Lanka but hope to move to Canada / New Zealand soon.\\nI love all foods, particularly French food, but strangely I'm repelled by almost all forms of cheese. I'm not allergic, I just hate the taste! I make an exception for cream cheese and mozarella though - cheesecake and pizza are the greatest.\\n\\n## LinkedIn Profile:\\n\\xa0 \\xa0\\nContact\\nsadeeparanasinghe2000@gmail\\n.com\\nwww.linkedin.com/in/sadeepa-\\nranasinghe-11b030194 (LinkedIn)\\nTop Skills\\nProgramming\\nComputer Science\\nHTML5\\nSadeepa Ranasinghe\\nComputer Engineering Undergraduate - Faculty Of Engineering USJ\\nGampaha District, Western Province, Sri Lanka\\nSummary\\nComputer engineering undergraduate with a passion for data\\nscience, machine learning, AI, web development, and software\\nengineering. I thrive in collaborative environments and cherish the\\nopportunity to work with like-minded individuals who share the same\\neagerness for technology and learning.\\nExperience\\nLSEG (London Stock Exchange Group)\\nSoftware Engineer Intern\\nJuly 2024\\xa0-\\xa0February 2025\\xa0(8 months)\\nSri Lanka\\nEducation\\nUniversity of Sri Jayewardenepura\\nBachelor of Engineering - BE,\\xa0Computer Engineering\\xa0·\\xa0(March 2021\\xa0-\\xa0June\\n2024)\\nWisdom Business Academy\\nCIMA,\\xa0Business/Commerce, General\\xa0·\\xa0(January 2020\\xa0-\\xa0January 2021)\\nAquinas College of Higher Studies\\n\\xa0·\\xa0(January 2016\\xa0-\\xa0August 2020)\\nBandaranayake College Gampaha Srilanka\\nMathematics\\xa0·\\xa0(March 2010\\xa0-\\xa0January 2018)\\n\\xa0 Page 1 of 1\\n\\nWith this context, please chat with the user, always staying in character as Sadeepa Ranasinghe.\""
      ]
     },
     "execution_count": 9,
     "metadata": {},
     "output_type": "execute_result"
    }
   ],
   "source": [
    "system_prompt"
   ]
  },
  {
   "cell_type": "code",
   "execution_count": 10,
   "metadata": {},
   "outputs": [],
   "source": [
    "def chat(message, history):\n",
    "    messages = [{\"role\": \"system\", \"content\": system_prompt}] + history + [{\"role\": \"user\", \"content\": message}]\n",
    "    response = openai.chat.completions.create(model=\"gpt-4o-mini\", messages=messages)\n",
    "    return response.choices[0].message.content"
   ]
  },
  {
   "cell_type": "code",
   "execution_count": 11,
   "metadata": {},
   "outputs": [
    {
     "name": "stdout",
     "output_type": "stream",
     "text": [
      "* Running on local URL:  http://127.0.0.1:7860\n",
      "* To create a public link, set `share=True` in `launch()`.\n"
     ]
    },
    {
     "data": {
      "text/html": [
       "<div><iframe src=\"http://127.0.0.1:7860/\" width=\"100%\" height=\"500\" allow=\"autoplay; camera; microphone; clipboard-read; clipboard-write;\" frameborder=\"0\" allowfullscreen></iframe></div>"
      ],
      "text/plain": [
       "<IPython.core.display.HTML object>"
      ]
     },
     "metadata": {},
     "output_type": "display_data"
    },
    {
     "data": {
      "text/plain": []
     },
     "execution_count": 11,
     "metadata": {},
     "output_type": "execute_result"
    }
   ],
   "source": [
    "gr.ChatInterface(chat, type=\"messages\").launch()"
   ]
  }
 ],
 "metadata": {
  "kernelspec": {
   "display_name": "Python 3",
   "language": "python",
   "name": "python3"
  },
  "language_info": {
   "codemirror_mode": {
    "name": "ipython",
    "version": 3
   },
   "file_extension": ".py",
   "mimetype": "text/x-python",
   "name": "python",
   "nbconvert_exporter": "python",
   "pygments_lexer": "ipython3",
   "version": "3.12.0"
  }
 },
 "nbformat": 4,
 "nbformat_minor": 2
}
